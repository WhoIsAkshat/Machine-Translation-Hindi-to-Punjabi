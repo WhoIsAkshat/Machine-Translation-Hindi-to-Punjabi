{
  "cells": [
    {
      "cell_type": "markdown",
      "metadata": {
        "id": "_ygYA1jDt0bV"
      },
      "source": [
        "## MACHINE TRANSLATION of HINDI <-> PUNJABI"
      ]
    },
    {
      "cell_type": "code",
      "execution_count": null,
      "metadata": {
        "id": "cNjh63Hw9KsU"
      },
      "outputs": [],
      "source": [
        "import os\n",
        "import tensorflow as tf\n",
        "from keras.preprocessing.text import Tokenizer\n",
        "from keras.preprocessing.sequence import pad_sequences\n",
        "from keras.losses import sparse_categorical_crossentropy\n",
        "from keras.optimizers import Adam\n",
        "from keras.models import Sequential\n",
        "from keras.layers import Embedding,GRU,TimeDistributed, Dense, Dropout,Bidirectional,SimpleRNN"
      ]
    },
    {
      "cell_type": "code",
      "execution_count": null,
      "metadata": {
        "id": "zaU0V3EP98Ii"
      },
      "outputs": [],
      "source": [
        "hindi_data_path='/content/hindi.txt'\n",
        "punj_data_path='/content/punjabi.txt'\n",
        "with open(hindi_data_path, \"r\", encoding=\"utf-8\") as f:\n",
        "  data=f.read()\n",
        "hindi_sentences=data.split('\\n')\n",
        "with open(punj_data_path, \"r\", encoding=\"utf-8\") as f:\n",
        "  data=f.read()\n",
        "punj_sentences=data.split('\\n')"
      ]
    },
    {
      "cell_type": "code",
      "execution_count": null,
      "metadata": {
        "colab": {
          "base_uri": "https://localhost:8080/"
        },
        "id": "z5nzyiF1-e81",
        "outputId": "57977b88-49df-4bf8-8400-f7df52d48553"
      },
      "outputs": [
        {
          "data": {
            "text/plain": [
              "['भगवान गीता, या भगवान के गीत, भगवान श्री कृष्ण ने महाभारत के महाकाव्य युद्ध की दहलीज पर अर्जुन को प्रकट किया था।',\n",
              " 'चचेरे भाई, कौरवों और पांडवों के दो सेटों के बीच एक निर्णायक लड़ाई, कुरुक्षेत्र के युद्ध के मैदान पर शुरू होने वाली थी।',\n",
              " 'उन कारणों का एक विस्तृत विवरण जो इस तरह के एक विशाल युद्ध का कारण बना;परिचय के तहत दिया गया है-भगवद गीता की स्थापना।',\n",
              " 'भगवद गीता मुख्य रूप से भगवान श्री कृष्ण और अर्जुन के बीच एक बातचीत है।',\n",
              " 'हालाँकि, पहला अध्याय राजा धृतराष्ट्र और उनके मंत्री संजय के बीच एक संवाद के साथ शुरू होता है।']"
            ]
          },
          "execution_count": 3,
          "metadata": {},
          "output_type": "execute_result"
        }
      ],
      "source": [
        "hindi_sentences[:5]"
      ]
    },
    {
      "cell_type": "code",
      "execution_count": null,
      "metadata": {
        "colab": {
          "base_uri": "https://localhost:8080/"
        },
        "id": "XUUsPxfq-i72",
        "outputId": "fe0f6e6f-2b99-4848-dbb6-fa827217127a"
      },
      "outputs": [
        {
          "data": {
            "text/plain": [
              "['ਭਗਵਾਨਾ ਗੀਤਾ, ਜਾਂ ਪਰਮੇਸ਼ੁਰ ਦਾ ਗੀਤ, ਮਹਾਂਭਾਰਤ ਦੀ ਮਹਾਂਮਾਰੀ ਦੀ ਲੜਾਈ ਦੇ ਹੱਦ ਤਕ ਅਰਜੁਨ ਨੂੰ ਅਰਜੁਨ ਤੋਂ ਪਤਾ ਚੱਲਿਆ.',\n",
              " 'ਚਚੇਰੇ ਭਰਾਵਾਂ ਦੇ ਦੋ ਸਮੂਹਾਂ, ਕੌਰਵਸ ਅਤੇ ਪੰਡਵਸ ਦੇ ਵਿਚਕਾਰ ਇੱਕ ਨਿਰਣਾਇਕ ਲੜਾਈ ਸਿਰਫ ਕੁਰੂਕਸ਼ੇਤਰ ਦੇ ਯੁੱਧ ਦੇ ਮੈਦਾਨ ਵਿੱਚ ਸ਼ੁਰੂ ਹੋਣ ਵਾਲੀ ਸੀ.',\n",
              " 'ਇਸ ਤਰ੍ਹਾਂ ਦੇ ਕਾਰਨਾਂ ਦਾ ਕਾਰਨ ਇਹ ਹੈ ਕਿ ਅਜਿਹੀ ਭਾਰੀ ਯੁੱਧ ਲੈ ਕੇ;ਜਾਣ-ਪਛਾਣ ਅਧੀਨ ਦਿੱਤਾ ਗਿਆ ਹੈ - ਭਗਵਾਦ ਗੀਤਾ ਦੀ ਸਥਾਪਨਾ.',\n",
              " 'ਭਗਵਾਨਾ ਗੀਤਾ ਮੁੱਖ ਤੌਰ ਤੇ ਪ੍ਰਭੂ ਸ਼੍ਰੀ ਕ੍ਰਿਸ਼ਨਾ ਅਤੇ ਅਰਜੁਨ ਵਿਚਕਾਰ ਗੱਲਬਾਤ ਹੈ.',\n",
              " 'ਹਾਲਾਂਕਿ, ਪਹਿਲਾ ਅਧਿਆਇ ਰਾਜਾ ਧ੍ਰਿਤਾਰਸ਼ਟਰ ਅਤੇ ਉਸਦੇ ਮੰਤਰੀ ਸੰਜੇ ਦੇ ਵਿਚਕਾਰ ਗੱਲਬਾਤ ਨਾਲ ਸ਼ੁਰੂ ਹੁੰਦਾ ਹੈ.']"
            ]
          },
          "execution_count": 4,
          "metadata": {},
          "output_type": "execute_result"
        }
      ],
      "source": [
        "punj_sentences[:5]"
      ]
    },
    {
      "cell_type": "code",
      "execution_count": null,
      "metadata": {
        "id": "06FvErcZ-nUw"
      },
      "outputs": [],
      "source": [
        "def tokenize(x):\n",
        "  tokenizer=Tokenizer()\n",
        "  tokenizer.fit_on_texts(x)\n",
        "  return tokenizer.texts_to_sequences(x),tokenizer"
      ]
    },
    {
      "cell_type": "code",
      "execution_count": null,
      "metadata": {
        "id": "vXAjLiFO--TI"
      },
      "outputs": [],
      "source": [
        "hindi_sequences,hindi_tokenizer=tokenize(hindi_sentences)\n",
        "punj_sequences,punj_tokenizer=tokenize(punj_sentences)"
      ]
    },
    {
      "cell_type": "code",
      "execution_count": null,
      "metadata": {
        "colab": {
          "base_uri": "https://localhost:8080/"
        },
        "collapsed": true,
        "id": "yyuGkHQ5_IMo",
        "outputId": "44c58c25-d8ae-4a6e-bdc5-aa162f4ecccc"
      },
      "outputs": [
        {
          "data": {
            "text/plain": [
              "[[45,\n",
              "  599,\n",
              "  52,\n",
              "  45,\n",
              "  1,\n",
              "  1181,\n",
              "  45,\n",
              "  53,\n",
              "  43,\n",
              "  59,\n",
              "  1182,\n",
              "  1,\n",
              "  1183,\n",
              "  292,\n",
              "  9,\n",
              "  1678,\n",
              "  28,\n",
              "  34,\n",
              "  4,\n",
              "  209,\n",
              "  35,\n",
              "  419],\n",
              " [939,\n",
              "  775,\n",
              "  1184,\n",
              "  2,\n",
              "  940,\n",
              "  1,\n",
              "  273,\n",
              "  1679,\n",
              "  1,\n",
              "  48,\n",
              "  15,\n",
              "  941,\n",
              "  420,\n",
              "  1680,\n",
              "  1,\n",
              "  292,\n",
              "  1,\n",
              "  484,\n",
              "  28,\n",
              "  263,\n",
              "  96,\n",
              "  243,\n",
              "  776],\n",
              " [89,\n",
              "  777,\n",
              "  12,\n",
              "  15,\n",
              "  778,\n",
              "  1681,\n",
              "  11,\n",
              "  18,\n",
              "  37,\n",
              "  1,\n",
              "  15,\n",
              "  942,\n",
              "  292,\n",
              "  12,\n",
              "  182,\n",
              "  779,\n",
              "  1185,\n",
              "  1,\n",
              "  1186,\n",
              "  114,\n",
              "  98,\n",
              "  5,\n",
              "  780,\n",
              "  599,\n",
              "  9,\n",
              "  1682],\n",
              " [780, 599, 1683, 24, 6, 45, 53, 43, 2, 34, 1, 48, 15, 600, 8],\n",
              " [533,\n",
              "  1187,\n",
              "  127,\n",
              "  293,\n",
              "  421,\n",
              "  2,\n",
              "  60,\n",
              "  1684,\n",
              "  601,\n",
              "  1,\n",
              "  48,\n",
              "  15,\n",
              "  781,\n",
              "  1,\n",
              "  19,\n",
              "  263,\n",
              "  80,\n",
              "  8]]"
            ]
          },
          "execution_count": 7,
          "metadata": {},
          "output_type": "execute_result"
        }
      ],
      "source": [
        "hindi_sequences[:5]"
      ]
    },
    {
      "cell_type": "code",
      "execution_count": null,
      "metadata": {
        "colab": {
          "base_uri": "https://localhost:8080/"
        },
        "collapsed": true,
        "id": "nVlfS89X_MTS",
        "outputId": "058b9d95-e954-46ec-dd96-62f695190bea"
      },
      "outputs": [
        {
          "data": {
            "text/plain": [
              "[[953,\n",
              "  685,\n",
              "  37,\n",
              "  179,\n",
              "  12,\n",
              "  1213,\n",
              "  1214,\n",
              "  7,\n",
              "  1710,\n",
              "  7,\n",
              "  203,\n",
              "  2,\n",
              "  1711,\n",
              "  356,\n",
              "  32,\n",
              "  4,\n",
              "  32,\n",
              "  9,\n",
              "  785,\n",
              "  1712],\n",
              " [954,\n",
              "  955,\n",
              "  2,\n",
              "  264,\n",
              "  1713,\n",
              "  1714,\n",
              "  3,\n",
              "  1715,\n",
              "  2,\n",
              "  180,\n",
              "  64,\n",
              "  1215,\n",
              "  203,\n",
              "  332,\n",
              "  1216,\n",
              "  2,\n",
              "  597,\n",
              "  2,\n",
              "  517,\n",
              "  11,\n",
              "  184,\n",
              "  126,\n",
              "  598,\n",
              "  147],\n",
              " [10,\n",
              "  47,\n",
              "  2,\n",
              "  956,\n",
              "  12,\n",
              "  140,\n",
              "  27,\n",
              "  1,\n",
              "  14,\n",
              "  357,\n",
              "  957,\n",
              "  597,\n",
              "  382,\n",
              "  70,\n",
              "  214,\n",
              "  686,\n",
              "  383,\n",
              "  122,\n",
              "  71,\n",
              "  1,\n",
              "  1716,\n",
              "  685,\n",
              "  7,\n",
              "  1717],\n",
              " [953, 685, 1217, 118, 39, 231, 62, 119, 3, 32, 180, 687, 1],\n",
              " [104, 1718, 133, 435, 958, 3, 403, 1719, 518, 2, 180, 687, 8, 184, 44, 1]]"
            ]
          },
          "execution_count": 8,
          "metadata": {},
          "output_type": "execute_result"
        }
      ],
      "source": [
        "punj_sequences[:5]"
      ]
    },
    {
      "cell_type": "code",
      "execution_count": null,
      "metadata": {
        "id": "ZsHvd1CX_QzQ"
      },
      "outputs": [],
      "source": [
        "def pad(x,length=None):\n",
        "  return pad_sequences(x,maxlen=length,padding='post')"
      ]
    },
    {
      "cell_type": "code",
      "execution_count": null,
      "metadata": {
        "id": "29cUb54q_gNg"
      },
      "outputs": [],
      "source": [
        "hindi_pad_sequences=pad(hindi_sequences)\n",
        "punj_pad_sequences=pad(punj_sequences)"
      ]
    },
    {
      "cell_type": "code",
      "execution_count": null,
      "metadata": {
        "id": "jUluAA4-_rdo"
      },
      "outputs": [],
      "source": [
        "hindi_vocabulary=len(hindi_tokenizer.word_index)+1\n",
        "punj_vocabulary=len(punj_tokenizer.word_index)+1\n",
        "max_hindi_sequence_length=hindi_pad_sequences.shape[1]\n",
        "max_punj_sequence_length=punj_pad_sequences.shape[1]"
      ]
    },
    {
      "cell_type": "code",
      "execution_count": null,
      "metadata": {
        "id": "TVnZRKWQ_vbf"
      },
      "outputs": [],
      "source": [
        "punj_pad_sequences=punj_pad_sequences.reshape(*punj_pad_sequences.shape,1)"
      ]
    },
    {
      "cell_type": "markdown",
      "metadata": {
        "id": "kRWSLitZYNJd"
      },
      "source": [
        "## SIMPLE RNN"
      ]
    },
    {
      "cell_type": "code",
      "execution_count": null,
      "metadata": {
        "id": "k0-43dFeXOoB"
      },
      "outputs": [],
      "source": [
        "tmp_x=pad(hindi_pad_sequences,max_punj_sequence_length)\n",
        "tmp_x=tmp_x.reshape((-1,punj_pad_sequences.shape[-2],1))"
      ]
    },
    {
      "cell_type": "code",
      "execution_count": null,
      "metadata": {
        "id": "CQuDt--xXU0B"
      },
      "outputs": [],
      "source": [
        "model_rnn=Sequential()\n",
        "model_rnn.add(SimpleRNN(128,return_sequences=True,input_shape=tmp_x.shape[1:]))\n",
        "model_rnn.add(TimeDistributed(Dense(1024,activation='relu')))\n",
        "model_rnn.add(Dropout(0.5))\n",
        "model_rnn.add(TimeDistributed(Dense(punj_vocabulary,activation='softmax')))"
      ]
    },
    {
      "cell_type": "code",
      "execution_count": null,
      "metadata": {
        "id": "Tx7F_fUrX4Dy"
      },
      "outputs": [],
      "source": [
        "learning_rate=0.005\n",
        "model_rnn.compile(\n",
        "    loss=sparse_categorical_crossentropy,\n",
        "    optimizer=Adam(learning_rate),\n",
        "    metrics=['accuracy']\n",
        ")"
      ]
    },
    {
      "cell_type": "code",
      "execution_count": null,
      "metadata": {
        "colab": {
          "base_uri": "https://localhost:8080/"
        },
        "id": "iozxQD1TX7fS",
        "outputId": "5fecfc03-4325-40fc-87f8-3d75e1c78cdc"
      },
      "outputs": [
        {
          "name": "stdout",
          "output_type": "stream",
          "text": [
            "Epoch 1/10\n",
            "12/12 [==============================] - 9s 171ms/step - loss: 3.8441 - accuracy: 0.5684 - val_loss: 1.5503 - val_accuracy: 0.8039\n",
            "Epoch 2/10\n",
            "12/12 [==============================] - 2s 137ms/step - loss: 1.6109 - accuracy: 0.8084 - val_loss: 1.6200 - val_accuracy: 0.8051\n",
            "Epoch 3/10\n",
            "12/12 [==============================] - 2s 137ms/step - loss: 1.5687 - accuracy: 0.8085 - val_loss: 1.5262 - val_accuracy: 0.8014\n",
            "Epoch 4/10\n",
            "12/12 [==============================] - 2s 139ms/step - loss: 1.5006 - accuracy: 0.8061 - val_loss: 1.5242 - val_accuracy: 0.8025\n",
            "Epoch 5/10\n",
            "12/12 [==============================] - 2s 141ms/step - loss: 1.4494 - accuracy: 0.8064 - val_loss: 1.5753 - val_accuracy: 0.8039\n",
            "Epoch 6/10\n",
            "12/12 [==============================] - 2s 173ms/step - loss: 1.4342 - accuracy: 0.8068 - val_loss: 1.4197 - val_accuracy: 0.7937\n",
            "Epoch 7/10\n",
            "12/12 [==============================] - 2s 162ms/step - loss: 1.3119 - accuracy: 0.8050 - val_loss: 1.3746 - val_accuracy: 0.8051\n",
            "Epoch 8/10\n",
            "12/12 [==============================] - 2s 142ms/step - loss: 1.2748 - accuracy: 0.8090 - val_loss: 1.3679 - val_accuracy: 0.8054\n",
            "Epoch 9/10\n",
            "12/12 [==============================] - 2s 140ms/step - loss: 1.2594 - accuracy: 0.8091 - val_loss: 1.3674 - val_accuracy: 0.8056\n",
            "Epoch 10/10\n",
            "12/12 [==============================] - 2s 140ms/step - loss: 1.2492 - accuracy: 0.8092 - val_loss: 1.3728 - val_accuracy: 0.8054\n"
          ]
        },
        {
          "data": {
            "text/plain": [
              "<keras.src.callbacks.History at 0x7c94b2a9ba60>"
            ]
          },
          "execution_count": 16,
          "metadata": {},
          "output_type": "execute_result"
        }
      ],
      "source": [
        "model_rnn.fit(tmp_x,punj_pad_sequences,batch_size=100,epochs=10,validation_split=0.2)"
      ]
    },
    {
      "cell_type": "code",
      "execution_count": null,
      "metadata": {
        "id": "bvPnX0IYAJRt"
      },
      "outputs": [],
      "source": [
        "tmp_x=pad(hindi_pad_sequences,max_punj_sequence_length)\n",
        "tmp_x=tmp_x.reshape((-1,punj_pad_sequences.shape[-2]))"
      ]
    },
    {
      "cell_type": "code",
      "execution_count": null,
      "metadata": {
        "colab": {
          "base_uri": "https://localhost:8080/"
        },
        "id": "1MJA3oVrHYqD",
        "outputId": "e2857ce4-f798-40da-ae59-b124d7ad113e"
      },
      "outputs": [
        {
          "data": {
            "text/plain": [
              "(1431, 105)"
            ]
          },
          "execution_count": 18,
          "metadata": {},
          "output_type": "execute_result"
        }
      ],
      "source": [
        "tmp_x.shape"
      ]
    },
    {
      "cell_type": "markdown",
      "metadata": {
        "id": "OdU0-kr5UJk1"
      },
      "source": [
        "## SIMPLE RNN with EMBEDDING"
      ]
    },
    {
      "cell_type": "code",
      "execution_count": null,
      "metadata": {
        "id": "sY5iqcgdBHBe"
      },
      "outputs": [],
      "source": [
        "model=Sequential()\n",
        "model.add(Embedding(hindi_vocabulary,256,input_length=tmp_x.shape[1],input_shape=tmp_x.shape[1:]))\n",
        "model.add(SimpleRNN(256,return_sequences=True))\n",
        "model.add(TimeDistributed(Dense(1024,activation='relu')))\n",
        "model.add(Dropout(0.5))\n",
        "model.add(TimeDistributed(Dense(punj_vocabulary,activation='softmax')))"
      ]
    },
    {
      "cell_type": "code",
      "execution_count": null,
      "metadata": {
        "colab": {
          "base_uri": "https://localhost:8080/"
        },
        "id": "j5amUdVvHwIG",
        "outputId": "afb924d6-3389-4f8f-b72d-16b0bd7e1f9d"
      },
      "outputs": [
        {
          "name": "stdout",
          "output_type": "stream",
          "text": [
            "Model: \"sequential_1\"\n",
            "_________________________________________________________________\n",
            " Layer (type)                Output Shape              Param #   \n",
            "=================================================================\n",
            " embedding (Embedding)       (None, 105, 256)          804096    \n",
            "                                                                 \n",
            " simple_rnn_1 (SimpleRNN)    (None, 105, 256)          131328    \n",
            "                                                                 \n",
            " time_distributed_2 (TimeDi  (None, 105, 1024)         263168    \n",
            " stributed)                                                      \n",
            "                                                                 \n",
            " dropout_1 (Dropout)         (None, 105, 1024)         0         \n",
            "                                                                 \n",
            " time_distributed_3 (TimeDi  (None, 105, 3473)         3559825   \n",
            " stributed)                                                      \n",
            "                                                                 \n",
            "=================================================================\n",
            "Total params: 4758417 (18.15 MB)\n",
            "Trainable params: 4758417 (18.15 MB)\n",
            "Non-trainable params: 0 (0.00 Byte)\n",
            "_________________________________________________________________\n"
          ]
        }
      ],
      "source": [
        "model.summary()"
      ]
    },
    {
      "cell_type": "code",
      "execution_count": null,
      "metadata": {
        "id": "zkD8sYp7A5rg"
      },
      "outputs": [],
      "source": [
        "learning_rate=0.005\n",
        "model.compile(\n",
        "    loss=sparse_categorical_crossentropy,\n",
        "    optimizer=Adam(learning_rate),\n",
        "    metrics=['accuracy']\n",
        ")"
      ]
    },
    {
      "cell_type": "code",
      "execution_count": null,
      "metadata": {
        "colab": {
          "base_uri": "https://localhost:8080/"
        },
        "id": "TN3bWP1UC0pm",
        "outputId": "19845ac0-a4a0-4943-cc7c-23cd552b23f8"
      },
      "outputs": [
        {
          "name": "stdout",
          "output_type": "stream",
          "text": [
            "Epoch 1/10\n",
            "12/12 [==============================] - 6s 334ms/step - loss: 3.6780 - accuracy: 0.6849 - val_loss: 2.5185 - val_accuracy: 0.8039\n",
            "Epoch 2/10\n",
            "12/12 [==============================] - 3s 255ms/step - loss: 2.2982 - accuracy: 0.8079 - val_loss: 2.1540 - val_accuracy: 0.8039\n",
            "Epoch 3/10\n",
            "12/12 [==============================] - 3s 214ms/step - loss: 1.9306 - accuracy: 0.8077 - val_loss: 2.2381 - val_accuracy: 0.8039\n",
            "Epoch 4/10\n",
            "12/12 [==============================] - 3s 216ms/step - loss: 2.3980 - accuracy: 0.7922 - val_loss: 2.1023 - val_accuracy: 0.8031\n",
            "Epoch 5/10\n",
            "12/12 [==============================] - 3s 240ms/step - loss: 1.7890 - accuracy: 0.8030 - val_loss: 1.7081 - val_accuracy: 0.8062\n",
            "Epoch 6/10\n",
            "12/12 [==============================] - 3s 253ms/step - loss: 1.5904 - accuracy: 0.8084 - val_loss: 1.4936 - val_accuracy: 0.8035\n",
            "Epoch 7/10\n",
            "12/12 [==============================] - 2s 206ms/step - loss: 1.3898 - accuracy: 0.8062 - val_loss: 1.4401 - val_accuracy: 0.8055\n",
            "Epoch 8/10\n",
            "12/12 [==============================] - 2s 175ms/step - loss: 1.3254 - accuracy: 0.8098 - val_loss: 1.4238 - val_accuracy: 0.8061\n",
            "Epoch 9/10\n",
            "12/12 [==============================] - 2s 214ms/step - loss: 1.2907 - accuracy: 0.8106 - val_loss: 1.4220 - val_accuracy: 0.8060\n",
            "Epoch 10/10\n",
            "12/12 [==============================] - 2s 193ms/step - loss: 1.2708 - accuracy: 0.8103 - val_loss: 1.4209 - val_accuracy: 0.8057\n"
          ]
        },
        {
          "data": {
            "text/plain": [
              "<keras.src.callbacks.History at 0x7c94a00b35b0>"
            ]
          },
          "execution_count": 22,
          "metadata": {},
          "output_type": "execute_result"
        }
      ],
      "source": [
        "model.fit(tmp_x,punj_pad_sequences,batch_size=100,epochs=10,validation_split=0.2)"
      ]
    },
    {
      "cell_type": "code",
      "execution_count": null,
      "metadata": {
        "id": "7XpF_JccDBE_"
      },
      "outputs": [],
      "source": [
        "import numpy as np\n",
        "def logits_to_texts(logits,tokenizer):\n",
        "  index2word={id:word for word,id in tokenizer.word_index.items()}\n",
        "  index2word[0]='PAD'\n",
        "  return ' '.join([index2word[prediction] for prediction in np.argmax(logits,1)])"
      ]
    },
    {
      "cell_type": "code",
      "execution_count": null,
      "metadata": {
        "colab": {
          "base_uri": "https://localhost:8080/",
          "height": 70
        },
        "id": "TVnNrHlgGmND",
        "outputId": "e68a7c22-efdf-450d-e149-91c5172b2ee3"
      },
      "outputs": [
        {
          "name": "stdout",
          "output_type": "stream",
          "text": [
            "1/1 [==============================] - 0s 258ms/step\n"
          ]
        },
        {
          "data": {
            "application/vnd.google.colaboratory.intrinsic+json": {
              "type": "string"
            },
            "text/plain": [
              "'ਇਸ ਦੇ ਦੇ PAD PAD PAD ਦੇ PAD ਅਤੇ ਅਤੇ ਦੇ ਦੇ ਅਤੇ ਨੂੰ PAD ਦੇ PAD PAD PAD PAD PAD PAD PAD PAD PAD PAD PAD PAD PAD PAD PAD PAD PAD PAD PAD PAD PAD PAD PAD PAD PAD PAD PAD PAD PAD PAD PAD PAD PAD PAD PAD PAD PAD PAD PAD PAD PAD PAD PAD PAD PAD PAD PAD PAD PAD PAD PAD PAD PAD PAD PAD PAD PAD PAD PAD PAD PAD PAD PAD PAD PAD PAD PAD PAD PAD PAD PAD PAD PAD PAD PAD PAD PAD PAD PAD PAD PAD PAD PAD PAD PAD PAD PAD PAD PAD'"
            ]
          },
          "execution_count": 24,
          "metadata": {},
          "output_type": "execute_result"
        }
      ],
      "source": [
        "logits_to_texts(model.predict(tmp_x[:1])[0],punj_tokenizer)"
      ]
    },
    {
      "cell_type": "markdown",
      "metadata": {
        "id": "4t4XuIWIVtA6"
      },
      "source": [
        "## MACHINE TRANSLATION USING BIDIRECTIONAL GPU"
      ]
    },
    {
      "cell_type": "code",
      "execution_count": null,
      "metadata": {
        "id": "SKAOaQysNtlX"
      },
      "outputs": [],
      "source": [
        "tmp_x=pad(hindi_pad_sequences,max_punj_sequence_length)\n",
        "tmp_x=tmp_x.reshape((-1,punj_pad_sequences.shape[-2],1))"
      ]
    },
    {
      "cell_type": "code",
      "execution_count": null,
      "metadata": {
        "id": "56BNaZgXHBUv"
      },
      "outputs": [],
      "source": [
        "model1=Sequential()\n",
        "model1.add(Bidirectional(GRU(128,return_sequences=True),input_shape=tmp_x.shape[1:]))\n",
        "model1.add(TimeDistributed(Dense(1024,activation='relu')))\n",
        "model1.add(Dropout(0.5))\n",
        "model1.add(TimeDistributed(Dense(punj_vocabulary,activation='softmax')))"
      ]
    },
    {
      "cell_type": "code",
      "execution_count": null,
      "metadata": {
        "id": "-o-KtqZWN0dj"
      },
      "outputs": [],
      "source": [
        "learning_rate=0.005\n",
        "model1.compile(\n",
        "    loss=sparse_categorical_crossentropy,\n",
        "    optimizer=Adam(learning_rate),\n",
        "    metrics=['accuracy']\n",
        ")"
      ]
    },
    {
      "cell_type": "code",
      "execution_count": null,
      "metadata": {
        "colab": {
          "base_uri": "https://localhost:8080/"
        },
        "id": "Vf9ICup0PMYf",
        "outputId": "e1db314c-75d3-475c-9eea-dcf6fbbcd6ed"
      },
      "outputs": [
        {
          "name": "stdout",
          "output_type": "stream",
          "text": [
            "Epoch 1/10\n",
            "12/12 [==============================] - 6s 181ms/step - loss: 3.9941 - accuracy: 0.7828 - val_loss: 1.4400 - val_accuracy: 0.7954\n",
            "Epoch 2/10\n",
            "12/12 [==============================] - 1s 118ms/step - loss: 1.3607 - accuracy: 0.8060 - val_loss: 1.3563 - val_accuracy: 0.8064\n",
            "Epoch 3/10\n",
            "12/12 [==============================] - 1s 118ms/step - loss: 1.2888 - accuracy: 0.8100 - val_loss: 1.3379 - val_accuracy: 0.8063\n",
            "Epoch 4/10\n",
            "12/12 [==============================] - 1s 121ms/step - loss: 1.2633 - accuracy: 0.8107 - val_loss: 1.3375 - val_accuracy: 0.8076\n",
            "Epoch 5/10\n",
            "12/12 [==============================] - 1s 123ms/step - loss: 1.2477 - accuracy: 0.8117 - val_loss: 1.3525 - val_accuracy: 0.8082\n",
            "Epoch 6/10\n",
            "12/12 [==============================] - 1s 120ms/step - loss: 1.2346 - accuracy: 0.8117 - val_loss: 1.3441 - val_accuracy: 0.8089\n",
            "Epoch 7/10\n",
            "12/12 [==============================] - 1s 121ms/step - loss: 1.2238 - accuracy: 0.8125 - val_loss: 1.3484 - val_accuracy: 0.8096\n",
            "Epoch 8/10\n",
            "12/12 [==============================] - 1s 119ms/step - loss: 1.2133 - accuracy: 0.8131 - val_loss: 1.3648 - val_accuracy: 0.8097\n",
            "Epoch 9/10\n",
            "12/12 [==============================] - 1s 121ms/step - loss: 1.2064 - accuracy: 0.8129 - val_loss: 1.3626 - val_accuracy: 0.8105\n",
            "Epoch 10/10\n",
            "12/12 [==============================] - 1s 121ms/step - loss: 1.1986 - accuracy: 0.8133 - val_loss: 1.3649 - val_accuracy: 0.8102\n"
          ]
        },
        {
          "data": {
            "text/plain": [
              "<keras.src.callbacks.History at 0x7c94a05703a0>"
            ]
          },
          "execution_count": 28,
          "metadata": {},
          "output_type": "execute_result"
        }
      ],
      "source": [
        "model1.fit(tmp_x,punj_pad_sequences,batch_size=100,epochs=10,validation_split=0.2)"
      ]
    },
    {
      "cell_type": "code",
      "execution_count": null,
      "metadata": {
        "id": "D3EIWoMCs68U"
      },
      "outputs": [],
      "source": []
    }
  ],
  "metadata": {
    "accelerator": "GPU",
    "colab": {
      "gpuType": "T4",
      "provenance": []
    },
    "kernelspec": {
      "display_name": "Python 3",
      "name": "python3"
    },
    "language_info": {
      "codemirror_mode": {
        "name": "ipython",
        "version": 3
      },
      "file_extension": ".py",
      "mimetype": "text/x-python",
      "name": "python",
      "nbconvert_exporter": "python",
      "pygments_lexer": "ipython3",
      "version": "3.11.8"
    }
  },
  "nbformat": 4,
  "nbformat_minor": 0
}
